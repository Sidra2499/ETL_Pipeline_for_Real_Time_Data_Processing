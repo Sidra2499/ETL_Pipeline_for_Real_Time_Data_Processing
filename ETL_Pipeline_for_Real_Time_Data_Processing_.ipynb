{
  "nbformat": 4,
  "nbformat_minor": 0,
  "metadata": {
    "colab": {
      "provenance": [],
      "authorship_tag": "ABX9TyOWCpDkzl8x5L0/daA2Rwb2",
      "include_colab_link": true
    },
    "kernelspec": {
      "name": "python3",
      "display_name": "Python 3"
    },
    "language_info": {
      "name": "python"
    }
  },
  "cells": [
    {
      "cell_type": "markdown",
      "metadata": {
        "id": "view-in-github",
        "colab_type": "text"
      },
      "source": [
        "<a href=\"https://colab.research.google.com/github/Sidra2499/ETL_Pipeline_for_Real_Time_Data_Processing/blob/main/ETL_Pipeline_for_Real_Time_Data_Processing_.ipynb\" target=\"_parent\"><img src=\"https://colab.research.google.com/assets/colab-badge.svg\" alt=\"Open In Colab\"/></a>"
      ]
    },
    {
      "cell_type": "code",
      "execution_count": 17,
      "metadata": {
        "id": "Z0CYxU0vKM6x"
      },
      "outputs": [],
      "source": [
        "!pip install --quiet requests\n",
        "!pip install --quiet gspread\n",
        "!pip install --quiet google-auth"
      ]
    },
    {
      "cell_type": "code",
      "source": [
        "import requests  # For extracting data from an API\n",
        "import pandas as pd  # For data transformation\n",
        "import gspread  # For loading data to Google Sheets\n",
        "from google.colab import auth\n",
        "from google.auth import default\n",
        "import time\n",
        "from gspread_dataframe import set_with_dataframe\n",
        "\n"
      ],
      "metadata": {
        "id": "yRdMyNPhxRKN"
      },
      "execution_count": 24,
      "outputs": []
    },
    {
      "cell_type": "code",
      "source": [],
      "metadata": {
        "id": "tKWmOCUnDTG-"
      },
      "execution_count": null,
      "outputs": []
    },
    {
      "cell_type": "code",
      "source": [
        "import gspread\n",
        "from google.oauth2.service_account import Credentials\n"
      ],
      "metadata": {
        "id": "bEnloeARnFnW"
      },
      "execution_count": 25,
      "outputs": []
    },
    {
      "cell_type": "code",
      "source": [
        "# Define the scope for Google Sheets API access\n",
        "scope = [\"https://spreadsheets.google.com/feeds\", \"https://www.googleapis.com/auth/drive\"]\n",
        "\n",
        "# Load credentials from the uploaded file (adjust path if necessary)\n",
        "creds = Credentials.from_service_account_file('/content/realtimeetlpipeline-85be1c42ec0c.json', scopes=scope)\n",
        "# Authorize gspread with the credentials\n",
        "client = gspread.authorize(creds)\n"
      ],
      "metadata": {
        "id": "gIt1671Hsbke"
      },
      "execution_count": 26,
      "outputs": []
    },
    {
      "cell_type": "code",
      "source": [
        "# Open your spreadsheet (Make sure the name matches EXACTLY as in Google Sheets)\n",
        "spreadsheet = client.open(\"ETL_Pipeline\")  # Replace with your actual Google Sheet name\n",
        "\n",
        "# Select the first sheet\n",
        "sheet = spreadsheet.sheet1\n",
        "\n",
        "print(\"✅ Google Sheet connected successfully!\")"
      ],
      "metadata": {
        "colab": {
          "base_uri": "https://localhost:8080/"
        },
        "id": "mr0HeZ0YxTmL",
        "outputId": "93695e93-536f-4a95-dbfd-3f8e4c97c94d"
      },
      "execution_count": 27,
      "outputs": [
        {
          "output_type": "stream",
          "name": "stdout",
          "text": [
            "✅ Google Sheet connected successfully!\n"
          ]
        }
      ]
    },
    {
      "cell_type": "code",
      "source": [
        "# Define API URL\n",
        "api_url = \"https://api.coingecko.com/api/v3/coins/markets\"\n",
        "\n",
        "# Define API URL\n",
        "api_url = \"https://api.coingecko.com/api/v3/coins/markets\"\n",
        "\n",
        "# Define parameters for the API request\n",
        "params = {\n",
        "    \"vs_currency\": \"usd\",  # Get prices in USD\n",
        "    \"order\": \"market_cap_desc\",  # Order by market cap\n",
        "    \"per_page\": 40,  # Limit to 40 coins\n",
        "    \"page\": 1,\n",
        "    \"sparkline\": \"false\"  # Don't include sparkline data\n",
        "}\n",
        "\n",
        "headers = {\n",
        "    \"Accept\": \"application/json\",\n",
        "    \"User-Agent\": \"Mozilla/5.0\"\n",
        "}\n",
        "\n",
        "while True:\n",
        "    # Fetch new data from API\n",
        "    response = requests.get(api_url, params=params, headers=headers)\n",
        "\n",
        "    if response.status_code == 200:\n",
        "        data = response.json()\n",
        "        df = pd.DataFrame(data)\n",
        "\n",
        "        # Clear old data (optional)\n",
        "        sheet.clear()\n",
        "\n",
        "        # Write new data to Google Sheets\n",
        "        set_with_dataframe(sheet, df)\n",
        "\n",
        "        print(\"✅ Data updated successfully!\")\n",
        "\n",
        "    else:\n",
        "        print(f\"⚠️ Failed to fetch data: {response.status_code}\")\n",
        "\n",
        "    # Wait for 5 minutes before fetching again\n",
        "    time.sleep(300)\n"
      ],
      "metadata": {
        "colab": {
          "base_uri": "https://localhost:8080/"
        },
        "id": "uYEieIoX_bDe",
        "outputId": "4d3736d1-c156-4526-9af2-96492e013841"
      },
      "execution_count": null,
      "outputs": [
        {
          "output_type": "stream",
          "name": "stdout",
          "text": [
            "✅ Data updated successfully!\n",
            "✅ Data updated successfully!\n"
          ]
        }
      ]
    },
    {
      "cell_type": "code",
      "source": [
        "from google.colab import drive\n",
        "drive.mount('/content/drive')"
      ],
      "metadata": {
        "id": "EDCjZmixmYh2"
      },
      "execution_count": null,
      "outputs": []
    },
    {
      "cell_type": "code",
      "source": [
        "# Convert API JSON response to Pandas DataFrame\n",
        "df = pd.DataFrame(data, columns=[\"id\", \"symbol\", \"name\", \"current_price\", \"market_cap\", \"total_volume\"])\n",
        "\n",
        "# Display the first few rows\n",
        "print(df.head())"
      ],
      "metadata": {
        "id": "LAFQPodj4EBi",
        "colab": {
          "base_uri": "https://localhost:8080/"
        },
        "outputId": "b9327a74-8297-4e8d-bed7-711c86c581e3"
      },
      "execution_count": 33,
      "outputs": [
        {
          "output_type": "stream",
          "name": "stdout",
          "text": [
            "            id symbol      name  current_price     market_cap  total_volume\n",
            "0      bitcoin    btc   Bitcoin   88585.000000  1747316425040   71618347652\n",
            "1     ethereum    eth  Ethereum    2394.930000   286773142472   40925303634\n",
            "2       tether   usdt    Tether       0.999352   142270525923   87899087945\n",
            "3       ripple    xrp       XRP       2.160000   123654963277   10736539782\n",
            "4  binancecoin    bnb       BNB     604.140000    87866505056    1817860154\n"
          ]
        }
      ]
    },
    {
      "cell_type": "code",
      "source": [
        "from gspread_dataframe import set_with_dataframe\n",
        "\n",
        "# Clear previous data (optional)\n",
        "sheet.clear()\n",
        "\n",
        "# Write the DataFrame to the Google Sheet\n",
        "set_with_dataframe(sheet, df)\n",
        "\n",
        "print(\"✅ Data successfully written to Google Sheets!\")"
      ],
      "metadata": {
        "id": "r8Ur7xP68EgY"
      },
      "execution_count": null,
      "outputs": []
    },
    {
      "cell_type": "code",
      "source": [],
      "metadata": {
        "id": "llb6qb7R9eaV"
      },
      "execution_count": null,
      "outputs": []
    }
  ]
}